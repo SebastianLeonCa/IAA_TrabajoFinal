{
 "cells": [
  {
   "cell_type": "markdown",
   "metadata": {
    "id": "Y8MZREHliPoA"
   },
   "source": [
    "### 1.1 Librerías"
   ]
  },
  {
   "cell_type": "code",
   "execution_count": 1,
   "metadata": {
    "id": "52oimE9kiLHi"
   },
   "outputs": [],
   "source": [
    "import pandas as pd\n",
    "import numpy as np\n",
    "from scipy.sparse import coo_matrix\n",
    "from scipy.sparse import csr_matrix\n",
    "from sklearn.neighbors import NearestNeighbors\n",
    "\n",
    "import matplotlib.pyplot as plt\n",
    "import seaborn as sns\n",
    "\n",
    "from surprise import Reader, Dataset, SVD\n",
    "from surprise.model_selection import cross_validate\n",
    "from surprise import accuracy"
   ]
  },
  {
   "cell_type": "markdown",
   "metadata": {
    "id": "W0ucNeV1iVBo"
   },
   "source": [
    "### 1.2. Lectura de datos"
   ]
  },
  {
   "cell_type": "code",
   "execution_count": 3,
   "metadata": {
    "id": "a8UcDzlAih6Y"
   },
   "outputs": [],
   "source": [
    "# Se lee el dataset\n",
    "data = pd.read_csv(\"supermercados.csv\")"
   ]
  },
  {
   "cell_type": "code",
   "execution_count": 4,
   "metadata": {
    "colab": {
     "base_uri": "https://localhost:8080/",
     "height": 487
    },
    "id": "lztei7IeGjbk",
    "outputId": "1328a1ee-fee6-4a55-b38d-5b82bd54724b",
    "scrolled": true
   },
   "outputs": [
    {
     "name": "stderr",
     "output_type": "stream",
     "text": [
      "C:\\Users\\User\\AppData\\Local\\Temp\\ipykernel_6360\\491049900.py:5: SettingWithCopyWarning: \n",
      "A value is trying to be set on a copy of a slice from a DataFrame.\n",
      "Try using .loc[row_indexer,col_indexer] = value instead\n",
      "\n",
      "See the caveats in the documentation: https://pandas.pydata.org/pandas-docs/stable/user_guide/indexing.html#returning-a-view-versus-a-copy\n",
      "  df['codigosap'] = df['codigosap'].astype('int64')\n"
     ]
    },
    {
     "name": "stdout",
     "output_type": "stream",
     "text": [
      "Dimension:  (5640082, 9)\n"
     ]
    },
    {
     "data": {
      "text/html": [
       "<div>\n",
       "<style scoped>\n",
       "    .dataframe tbody tr th:only-of-type {\n",
       "        vertical-align: middle;\n",
       "    }\n",
       "\n",
       "    .dataframe tbody tr th {\n",
       "        vertical-align: top;\n",
       "    }\n",
       "\n",
       "    .dataframe thead th {\n",
       "        text-align: right;\n",
       "    }\n",
       "</style>\n",
       "<table border=\"1\" class=\"dataframe\">\n",
       "  <thead>\n",
       "    <tr style=\"text-align: right;\">\n",
       "      <th></th>\n",
       "      <th>CodCliente</th>\n",
       "      <th>NombreCliente</th>\n",
       "      <th>Categoria</th>\n",
       "      <th>Subcategoria</th>\n",
       "      <th>codigosap</th>\n",
       "      <th>descripcion</th>\n",
       "      <th>Cantidad</th>\n",
       "      <th>PrecioUnitario</th>\n",
       "      <th>ImporteLinea</th>\n",
       "    </tr>\n",
       "  </thead>\n",
       "  <tbody>\n",
       "    <tr>\n",
       "      <th>0</th>\n",
       "      <td>3546436</td>\n",
       "      <td>CAREAGA CHIRE RAMIRO ALEJANDRO</td>\n",
       "      <td>SALUD SEXUAL</td>\n",
       "      <td>PRESERVATIVOS</td>\n",
       "      <td>10105823</td>\n",
       "      <td>PRESERVATIVO MAXMEN BOOM 3UN</td>\n",
       "      <td>1.0</td>\n",
       "      <td>12.9</td>\n",
       "      <td>12.9</td>\n",
       "    </tr>\n",
       "    <tr>\n",
       "      <th>1</th>\n",
       "      <td>647917</td>\n",
       "      <td>TORREZ LUNARIO AMMY</td>\n",
       "      <td>PAPELES DESECHABLES</td>\n",
       "      <td>SERVILLETAS</td>\n",
       "      <td>10065383</td>\n",
       "      <td>SERVILLETA ELITE COCTEL 400UN</td>\n",
       "      <td>1.0</td>\n",
       "      <td>29.9</td>\n",
       "      <td>29.9</td>\n",
       "    </tr>\n",
       "    <tr>\n",
       "      <th>2</th>\n",
       "      <td>647917</td>\n",
       "      <td>TORREZ LUNARIO AMMY</td>\n",
       "      <td>BEBIDAS LACTEAS</td>\n",
       "      <td>YOGURT NATURAL/GRIEG</td>\n",
       "      <td>107313</td>\n",
       "      <td>YOGURT FATYH NATURAL 500 ML</td>\n",
       "      <td>1.0</td>\n",
       "      <td>8.9</td>\n",
       "      <td>8.9</td>\n",
       "    </tr>\n",
       "    <tr>\n",
       "      <th>3</th>\n",
       "      <td>647917</td>\n",
       "      <td>TORREZ LUNARIO AMMY</td>\n",
       "      <td>AZUCAR</td>\n",
       "      <td>AZUCAR MORENA</td>\n",
       "      <td>10109269</td>\n",
       "      <td>AZUCAR AGUAI MORENA 1 KG</td>\n",
       "      <td>1.0</td>\n",
       "      <td>5.5</td>\n",
       "      <td>5.5</td>\n",
       "    </tr>\n",
       "    <tr>\n",
       "      <th>4</th>\n",
       "      <td>647917</td>\n",
       "      <td>TORREZ LUNARIO AMMY</td>\n",
       "      <td>AZUCAR</td>\n",
       "      <td>AZUCAR BLANCA</td>\n",
       "      <td>10004437</td>\n",
       "      <td>AZUCAR GUABIRA EXTRA FINA 5KG</td>\n",
       "      <td>1.0</td>\n",
       "      <td>25.5</td>\n",
       "      <td>25.5</td>\n",
       "    </tr>\n",
       "  </tbody>\n",
       "</table>\n",
       "</div>"
      ],
      "text/plain": [
       "   CodCliente                   NombreCliente            Categoria  \\\n",
       "0     3546436  CAREAGA CHIRE RAMIRO ALEJANDRO         SALUD SEXUAL   \n",
       "1      647917             TORREZ LUNARIO AMMY  PAPELES DESECHABLES   \n",
       "2      647917             TORREZ LUNARIO AMMY      BEBIDAS LACTEAS   \n",
       "3      647917             TORREZ LUNARIO AMMY               AZUCAR   \n",
       "4      647917             TORREZ LUNARIO AMMY               AZUCAR   \n",
       "\n",
       "           Subcategoria  codigosap                               descripcion  \\\n",
       "0         PRESERVATIVOS   10105823  PRESERVATIVO MAXMEN BOOM 3UN               \n",
       "1           SERVILLETAS   10065383  SERVILLETA ELITE COCTEL 400UN              \n",
       "2  YOGURT NATURAL/GRIEG     107313  YOGURT FATYH NATURAL 500 ML                \n",
       "3         AZUCAR MORENA   10109269  AZUCAR AGUAI MORENA 1 KG                   \n",
       "4         AZUCAR BLANCA   10004437  AZUCAR GUABIRA EXTRA FINA 5KG              \n",
       "\n",
       "   Cantidad  PrecioUnitario  ImporteLinea  \n",
       "0       1.0            12.9          12.9  \n",
       "1       1.0            29.9          29.9  \n",
       "2       1.0             8.9           8.9  \n",
       "3       1.0             5.5           5.5  \n",
       "4       1.0            25.5          25.5  "
      ]
     },
     "execution_count": 4,
     "metadata": {},
     "output_type": "execute_result"
    }
   ],
   "source": [
    "#Eliminar nulos\n",
    "df = data.dropna()\n",
    "\n",
    "#Convertir el codigo a int\n",
    "df['codigosap'] = df['codigosap'].astype('int64')\n",
    "\n",
    "#Seleccionar solo columnas importantes\n",
    "df = df[['CodCliente', 'NombreCliente','Categoria','Subcategoria','codigosap','descripcion','Cantidad','PrecioUnitario', 'ImporteLinea']]\n",
    "\n",
    "#Detalles de data\n",
    "print('Dimension: ', df.shape)\n",
    "df.head()"
   ]
  },
  {
   "cell_type": "markdown",
   "metadata": {},
   "source": [
    "# Eliminación de datos"
   ]
  },
  {
   "cell_type": "markdown",
   "metadata": {},
   "source": [
    "## Eliminando clientes con demasiadas apariciones"
   ]
  },
  {
   "cell_type": "code",
   "execution_count": 10,
   "metadata": {},
   "outputs": [
    {
     "data": {
      "text/html": [
       "<div>\n",
       "<style scoped>\n",
       "    .dataframe tbody tr th:only-of-type {\n",
       "        vertical-align: middle;\n",
       "    }\n",
       "\n",
       "    .dataframe tbody tr th {\n",
       "        vertical-align: top;\n",
       "    }\n",
       "\n",
       "    .dataframe thead th {\n",
       "        text-align: right;\n",
       "    }\n",
       "</style>\n",
       "<table border=\"1\" class=\"dataframe\">\n",
       "  <thead>\n",
       "    <tr style=\"text-align: right;\">\n",
       "      <th></th>\n",
       "      <th>CodCliente</th>\n",
       "      <th>Apariciones</th>\n",
       "      <th>Porcentaje</th>\n",
       "    </tr>\n",
       "  </thead>\n",
       "  <tbody>\n",
       "    <tr>\n",
       "      <th>0</th>\n",
       "      <td>0</td>\n",
       "      <td>2712826</td>\n",
       "      <td>48.0991</td>\n",
       "    </tr>\n",
       "    <tr>\n",
       "      <th>34246</th>\n",
       "      <td>9109926</td>\n",
       "      <td>11744</td>\n",
       "      <td>0.2082</td>\n",
       "    </tr>\n",
       "    <tr>\n",
       "      <th>188</th>\n",
       "      <td>123456</td>\n",
       "      <td>8561</td>\n",
       "      <td>0.1518</td>\n",
       "    </tr>\n",
       "    <tr>\n",
       "      <th>25151</th>\n",
       "      <td>4904910</td>\n",
       "      <td>6007</td>\n",
       "      <td>0.1065</td>\n",
       "    </tr>\n",
       "    <tr>\n",
       "      <th>7243</th>\n",
       "      <td>2375252</td>\n",
       "      <td>5874</td>\n",
       "      <td>0.1041</td>\n",
       "    </tr>\n",
       "  </tbody>\n",
       "</table>\n",
       "</div>"
      ],
      "text/plain": [
       "       CodCliente  Apariciones  Porcentaje\n",
       "0               0      2712826     48.0991\n",
       "34246     9109926        11744      0.2082\n",
       "188        123456         8561      0.1518\n",
       "25151     4904910         6007      0.1065\n",
       "7243      2375252         5874      0.1041"
      ]
     },
     "execution_count": 10,
     "metadata": {},
     "output_type": "execute_result"
    }
   ],
   "source": [
    "#Clientes por cantidad de compras que han hecho\n",
    "aparXcliente = df.groupby('CodCliente').size().reset_index(name='Apariciones')\n",
    "\n",
    "totApar = aparXcliente['Apariciones'].sum()\n",
    "aparXcliente['Porcentaje'] = round(aparXcliente['Apariciones'] / totApar * 100, 4)\n",
    "\n",
    "aparXcliente = aparXcliente.sort_values(by='Apariciones', ascending=False)\n",
    "aparXcliente.head()"
   ]
  },
  {
   "cell_type": "code",
   "execution_count": 12,
   "metadata": {},
   "outputs": [
    {
     "data": {
      "text/html": [
       "<div>\n",
       "<style scoped>\n",
       "    .dataframe tbody tr th:only-of-type {\n",
       "        vertical-align: middle;\n",
       "    }\n",
       "\n",
       "    .dataframe tbody tr th {\n",
       "        vertical-align: top;\n",
       "    }\n",
       "\n",
       "    .dataframe thead th {\n",
       "        text-align: right;\n",
       "    }\n",
       "</style>\n",
       "<table border=\"1\" class=\"dataframe\">\n",
       "  <thead>\n",
       "    <tr style=\"text-align: right;\">\n",
       "      <th></th>\n",
       "      <th>CodCliente</th>\n",
       "      <th>Cantidad</th>\n",
       "      <th>Porcentaje</th>\n",
       "    </tr>\n",
       "  </thead>\n",
       "  <tbody>\n",
       "    <tr>\n",
       "      <th>0</th>\n",
       "      <td>0</td>\n",
       "      <td>24798</td>\n",
       "      <td>1.3368</td>\n",
       "    </tr>\n",
       "    <tr>\n",
       "      <th>1</th>\n",
       "      <td>1</td>\n",
       "      <td>27</td>\n",
       "      <td>0.0015</td>\n",
       "    </tr>\n",
       "    <tr>\n",
       "      <th>2</th>\n",
       "      <td>2</td>\n",
       "      <td>9</td>\n",
       "      <td>0.0005</td>\n",
       "    </tr>\n",
       "    <tr>\n",
       "      <th>3</th>\n",
       "      <td>4</td>\n",
       "      <td>24</td>\n",
       "      <td>0.0013</td>\n",
       "    </tr>\n",
       "    <tr>\n",
       "      <th>4</th>\n",
       "      <td>9</td>\n",
       "      <td>1</td>\n",
       "      <td>0.0001</td>\n",
       "    </tr>\n",
       "  </tbody>\n",
       "</table>\n",
       "</div>"
      ],
      "text/plain": [
       "   CodCliente  Cantidad  Porcentaje\n",
       "0           0     24798      1.3368\n",
       "1           1        27      0.0015\n",
       "2           2         9      0.0005\n",
       "3           4        24      0.0013\n",
       "4           9         1      0.0001"
      ]
     },
     "execution_count": 12,
     "metadata": {},
     "output_type": "execute_result"
    }
   ],
   "source": [
    "#Clientes por variedad de productos\n",
    "prdoXcliente = df.groupby('CodCliente')['codigosap'].nunique().reset_index()\n",
    "prdoXcliente.rename(columns={'codigosap': 'Cantidad'}, inplace=True)\n",
    "\n",
    "#Agregando columna de porcentaje\n",
    "totCant = prdoXcliente['Cantidad'].sum()\n",
    "prdoXcliente['Porcentaje'] = round((prdoXcliente['Cantidad'] / totCant) * 100,4)\n",
    "\n",
    "prdoXcliente.head()"
   ]
  },
  {
   "cell_type": "code",
   "execution_count": 14,
   "metadata": {},
   "outputs": [
    {
     "data": {
      "image/png": "[encoded data removed]",
      "text/plain": [
       "<Figure size 640x480 with 1 Axes>"
      ]
     },
     "metadata": {},
     "output_type": "display_data"
    }
   ],
   "source": [
    "L = list(prdoXcliente['Cantidad'])\n",
    "plt.plot(L)\n",
    "plt.title('Diferentes productos por cada cliente')\n",
    "plt.xlabel('Clientes')\n",
    "plt.ylabel('Cantidad de productos')\n",
    "plt.show()"
   ]
  },
  {
   "cell_type": "code",
   "execution_count": 16,
   "metadata": {},
   "outputs": [
    {
     "name": "stdout",
     "output_type": "stream",
     "text": [
      "Nro de clientes 36246\n",
      "Nro de productos 24854\n"
     ]
    }
   ],
   "source": [
    "#Eliminando los clientes que compraron demasiados productos\n",
    "df = df[(df['CodCliente'] != 0) & (df['CodCliente'] != 123456) & (df['CodCliente'] != 9109926)]\n",
    "\n",
    "print('Nro de clientes', len(df['CodCliente'].unique()))\n",
    "print('Nro de productos', len(df['codigosap'].unique()))"
   ]
  },
  {
   "cell_type": "code",
   "execution_count": 18,
   "metadata": {},
   "outputs": [
    {
     "data": {
      "image/png": "[encoded data removed]",
      "text/plain": [
       "<Figure size 640x480 with 1 Axes>"
      ]
     },
     "metadata": {},
     "output_type": "display_data"
    }
   ],
   "source": [
    "L = list(df.groupby('CodCliente')['codigosap'].nunique().reset_index()['codigosap'])\n",
    "plt.plot(L)\n",
    "plt.title('Diferentes productos por cada cliente')\n",
    "plt.xlabel('Clientes')\n",
    "plt.ylabel('Cantidad de productos')\n",
    "plt.show()"
   ]
  },
  {
   "cell_type": "code",
   "execution_count": 20,
   "metadata": {
    "colab": {
     "base_uri": "https://localhost:8080/"
    },
    "id": "HgGz78rIamZP",
    "outputId": "2f48ef3d-5aa5-4851-94f5-bdd23de42abe"
   },
   "outputs": [
    {
     "data": {
      "text/plain": [
       "(2906951, 9)"
      ]
     },
     "execution_count": 20,
     "metadata": {},
     "output_type": "execute_result"
    }
   ],
   "source": [
    "df.shape"
   ]
  },
  {
   "cell_type": "code",
   "execution_count": 22,
   "metadata": {
    "id": "zty0HyhtazRR"
   },
   "outputs": [
    {
     "name": "stdout",
     "output_type": "stream",
     "text": [
      "Cantidad de Devoluciones: 1534\n",
      "Porcentaje de la data: 0.05277006733171629%\n"
     ]
    }
   ],
   "source": [
    "nevativos = df[df['ImporteLinea'] <= 0].shape[0]\n",
    "\n",
    "print(f\"Cantidad de Devoluciones: {nevativos}\")\n",
    "print(f\"Porcentaje de la data: {nevativos*100/df.shape[0]}%\")"
   ]
  },
  {
   "cell_type": "code",
   "execution_count": 24,
   "metadata": {},
   "outputs": [],
   "source": [
    "#Elimnando los registros de devoluciones\n",
    "df = df[df['ImporteLinea'] > 0]"
   ]
  },
  {
   "cell_type": "code",
   "execution_count": 26,
   "metadata": {
    "colab": {
     "base_uri": "https://localhost:8080/"
    },
    "id": "6RauNR8ma2Li",
    "outputId": "e27bdf0b-aec7-474d-aa6e-f3eee0e02294"
   },
   "outputs": [
    {
     "data": {
      "text/plain": [
       "(2905417, 9)"
      ]
     },
     "execution_count": 26,
     "metadata": {},
     "output_type": "execute_result"
    }
   ],
   "source": [
    "df.shape"
   ]
  },
  {
   "cell_type": "code",
   "execution_count": 28,
   "metadata": {
    "colab": {
     "base_uri": "https://localhost:8080/"
    },
    "id": "9VsYxyKUPffB",
    "outputId": "c84d557a-26f6-44eb-94a3-b878bacc5aac"
   },
   "outputs": [
    {
     "data": {
      "text/plain": [
       "Index(['CodCliente', 'NombreCliente', 'Categoria', 'Subcategoria', 'codigosap',\n",
       "       'descripcion', 'Cantidad', 'PrecioUnitario', 'ImporteLinea'],\n",
       "      dtype='object')"
      ]
     },
     "execution_count": 28,
     "metadata": {},
     "output_type": "execute_result"
    }
   ],
   "source": [
    "df.columns"
   ]
  },
  {
   "cell_type": "markdown",
   "metadata": {
    "id": "mubECPPL_3Vu"
   },
   "source": [
    "# Filtrado de datos: Filtrar productos o clientes con pocas compras para evitar sesgos."
   ]
  },
  {
   "cell_type": "code",
   "execution_count": 31,
   "metadata": {
    "colab": {
     "base_uri": "https://localhost:8080/"
    },
    "id": "WO4w5c9T_1Xq",
    "outputId": "364e4e86-8386-4b5a-bb25-052600793fcc"
   },
   "outputs": [
    {
     "data": {
      "text/plain": [
       "(2872497, 9)"
      ]
     },
     "execution_count": 31,
     "metadata": {},
     "output_type": "execute_result"
    }
   ],
   "source": [
    "#Filtrar productos con pocas compras (menor a 5 compras)\n",
    "product_counts = df['codigosap'].value_counts()\n",
    "min_product_purchases = 5  # umbral mínimo de compras por producto\n",
    "filtered_products = product_counts[product_counts >= min_product_purchases].index\n",
    "df_filtered_products = df[df['codigosap'].isin(filtered_products)]\n",
    "\n",
    "#Filtrar clientes con pocas compras (menor a 5 compras)\n",
    "client_counts = df_filtered_products['CodCliente'].value_counts()\n",
    "min_client_purchases = 5  # umbral mínimo de compras por cliente\n",
    "filtered_clients = client_counts[client_counts >= min_client_purchases].index\n",
    "df_filtered = df_filtered_products[df_filtered_products['CodCliente'].isin(filtered_clients)]\n",
    "\n",
    "#Tamaño del dataframe filtrado\n",
    "df_filtered.shape"
   ]
  },
  {
   "cell_type": "markdown",
   "metadata": {},
   "source": [
    "# Algoritmo SVD: Filtrado Colaborativo"
   ]
  },
  {
   "cell_type": "markdown",
   "metadata": {},
   "source": [
    "## Cálculo de ratings"
   ]
  },
  {
   "cell_type": "code",
   "execution_count": 35,
   "metadata": {
    "id": "0VaDHy2pBOzH"
   },
   "outputs": [],
   "source": [
    "df = df_filtered"
   ]
  },
  {
   "cell_type": "code",
   "execution_count": 37,
   "metadata": {
    "colab": {
     "base_uri": "https://localhost:8080/"
    },
    "id": "qbNabSRHBNJ_",
    "outputId": "ec3378e4-0098-42c5-861d-ac44911af829"
   },
   "outputs": [],
   "source": [
    "# Calcular el número de compras por cliente y producto\n",
    "purchase_counts = df.groupby(['CodCliente', 'codigosap']).size().reset_index(name='purchase_count')\n",
    "\n",
    "# Usar el logaritmo de la frecuencia para calcular los ratings\n",
    "purchase_counts['log_purchase_count'] = np.log1p(purchase_counts['purchase_count'])\n",
    "\n",
    "# Ratings a la escala de 1 a 5\n",
    "min_log_count = purchase_counts['log_purchase_count'].min()\n",
    "max_log_count = purchase_counts['log_purchase_count'].max()\n",
    "purchase_counts['rating'] = 1 + (purchase_counts['log_purchase_count'] - min_log_count) / (max_log_count - min_log_count) * 4"
   ]
  },
  {
   "cell_type": "code",
   "execution_count": 39,
   "metadata": {},
   "outputs": [
    {
     "name": "stdout",
     "output_type": "stream",
     "text": [
      "Min rating: 1.0\n",
      "Max rating: 5.0\n"
     ]
    }
   ],
   "source": [
    "print(f\"Min rating: {purchase_counts['rating'].min()}\")  # Valor mínimo del rating\n",
    "print(f\"Max rating: {purchase_counts['rating'].max()}\")  # Valor máximo del rating"
   ]
  },
  {
   "cell_type": "code",
   "execution_count": 45,
   "metadata": {},
   "outputs": [
    {
     "data": {
      "text/html": [
       "<div>\n",
       "<style scoped>\n",
       "    .dataframe tbody tr th:only-of-type {\n",
       "        vertical-align: middle;\n",
       "    }\n",
       "\n",
       "    .dataframe tbody tr th {\n",
       "        vertical-align: top;\n",
       "    }\n",
       "\n",
       "    .dataframe thead th {\n",
       "        text-align: right;\n",
       "    }\n",
       "</style>\n",
       "<table border=\"1\" class=\"dataframe\">\n",
       "  <thead>\n",
       "    <tr style=\"text-align: right;\">\n",
       "      <th></th>\n",
       "      <th>CodCliente</th>\n",
       "      <th>codigosap</th>\n",
       "      <th>purchase_count</th>\n",
       "      <th>log_purchase_count</th>\n",
       "      <th>rating</th>\n",
       "    </tr>\n",
       "  </thead>\n",
       "  <tbody>\n",
       "    <tr>\n",
       "      <th>18719</th>\n",
       "      <td>134806</td>\n",
       "      <td>103817</td>\n",
       "      <td>157</td>\n",
       "      <td>5.062595</td>\n",
       "      <td>4.407044</td>\n",
       "    </tr>\n",
       "    <tr>\n",
       "      <th>20855</th>\n",
       "      <td>138537</td>\n",
       "      <td>200049</td>\n",
       "      <td>169</td>\n",
       "      <td>5.135798</td>\n",
       "      <td>4.464124</td>\n",
       "    </tr>\n",
       "    <tr>\n",
       "      <th>20877</th>\n",
       "      <td>138537</td>\n",
       "      <td>10000080</td>\n",
       "      <td>102</td>\n",
       "      <td>4.634729</td>\n",
       "      <td>4.073419</td>\n",
       "    </tr>\n",
       "    <tr>\n",
       "      <th>38087</th>\n",
       "      <td>229547</td>\n",
       "      <td>200041</td>\n",
       "      <td>125</td>\n",
       "      <td>4.836282</td>\n",
       "      <td>4.230578</td>\n",
       "    </tr>\n",
       "    <tr>\n",
       "      <th>96181</th>\n",
       "      <td>390755</td>\n",
       "      <td>100493</td>\n",
       "      <td>115</td>\n",
       "      <td>4.753590</td>\n",
       "      <td>4.166100</td>\n",
       "    </tr>\n",
       "  </tbody>\n",
       "</table>\n",
       "</div>"
      ],
      "text/plain": [
       "       CodCliente  codigosap  purchase_count  log_purchase_count    rating\n",
       "18719      134806     103817             157            5.062595  4.407044\n",
       "20855      138537     200049             169            5.135798  4.464124\n",
       "20877      138537   10000080             102            4.634729  4.073419\n",
       "38087      229547     200041             125            4.836282  4.230578\n",
       "96181      390755     100493             115            4.753590  4.166100"
      ]
     },
     "execution_count": 45,
     "metadata": {},
     "output_type": "execute_result"
    }
   ],
   "source": [
    "#Se visualiza que los productos mayores a 100 pueden provocar sesgos debido al rating demasiado alto\n",
    "purchase_counts[purchase_counts['purchase_count'] > 100].head()"
   ]
  },
  {
   "cell_type": "code",
   "execution_count": 49,
   "metadata": {},
   "outputs": [],
   "source": [
    "#Calcular el conteo de compras por producto\n",
    "product_counts = df['codigosap'].value_counts()\n",
    "\n",
    "#Filtrar productos con más de 100 compras por cliente\n",
    "max_purchases_threshold = 100\n",
    "filtered_products = product_counts[product_counts <= max_purchases_threshold].index\n",
    "\n",
    "#Aplicar el filtro\n",
    "purchase_counts = purchase_counts[purchase_counts['codigosap'].isin(filtered_products)]"
   ]
  },
  {
   "cell_type": "code",
   "execution_count": 51,
   "metadata": {
    "id": "wAtq-txVEE1p"
   },
   "outputs": [
    {
     "name": "stdout",
     "output_type": "stream",
     "text": [
      "Recomendaciones para el cliente 6143: [(10118546, 1.5049600991125514), (10006566, 1.4378321512986703), (10125222, 1.4313149434419628), (10079060, 1.4301783164973831), (10117077, 1.4167875436126969)]\n"
     ]
    }
   ],
   "source": [
    "# Convertir el dataframe a un formato surprise para el uso del filtrado colaborativo\n",
    "reader = Reader(rating_scale=(1, 5))\n",
    "data = Dataset.load_from_df(purchase_counts[['CodCliente', 'codigosap', 'rating']], reader)\n",
    "\n",
    "# Usar SVD para el filtrado colaborativo\n",
    "trainset = data.build_full_trainset()\n",
    "algo = SVD()\n",
    "algo.fit(trainset)\n",
    "\n",
    "# Recomendar productos para un cliente\n",
    "def get_recommendations(user_id, algo, df, n=5):\n",
    "    user_ratings = df[df['CodCliente'] == user_id]\n",
    "    products = df['codigosap'].unique()\n",
    "    products_already_rated = user_ratings['codigosap'].unique()\n",
    "    products_to_predict = [x for x in products if x not in products_already_rated]\n",
    "    predictions = [algo.predict(user_id, product_id) for product_id in products_to_predict]\n",
    "    recommendations = sorted(predictions, key=lambda x: x.est, reverse=True)[:n]\n",
    "    return [(pred.iid, pred.est) for pred in recommendations]\n",
    "\n",
    "user_id = 6143  # ID del cliente\n",
    "recommendations = get_recommendations(user_id, algo, purchase_counts)\n",
    "print(f'Recomendaciones para el cliente {user_id}: {recommendations}')"
   ]
  },
  {
   "cell_type": "code",
   "execution_count": 53,
   "metadata": {},
   "outputs": [
    {
     "name": "stdout",
     "output_type": "stream",
     "text": [
      "Recomendaciones para el cliente 6143\n",
      "Codigosap: 10118546, Descripción: LECHE NIDO +3 1.6KG, Rating: 1.5049600991125514\n",
      "Codigosap: 10006566, Descripción: CIGARRILLOS MARLBORO GOLD X20 UN        , Rating: 1.4378321512986703\n",
      "Codigosap: 10125222, Descripción: DOGCHOW CCHR M/G S DBLPROTN 6X3KG, Rating: 1.4313149434419628\n",
      "Codigosap: 10079060, Descripción: LAVANDINA DONA CLARITA DESINFECTANTE 5LT, Rating: 1.4301783164973831\n",
      "Codigosap: 10117077, Descripción: FRASCO ALMACENAMIENTO 600ML 73-001      , Rating: 1.4167875436126969\n"
     ]
    }
   ],
   "source": [
    "def obtener_descripcion(df, codigosap):\n",
    "    descripcion = df[df['codigosap'] == codigosap]['descripcion'].iloc[0]\n",
    "    return descripcion\n",
    "\n",
    "print(f'Recomendaciones para el cliente {user_id}')\n",
    "for codigosap, rating in recommendations:\n",
    "    descripcion = obtener_descripcion(df, codigosap)\n",
    "    print(f\"Codigosap: {codigosap}, Descripción: {descripcion}, Rating: {rating}\")"
   ]
  },
  {
   "cell_type": "code",
   "execution_count": 55,
   "metadata": {},
   "outputs": [],
   "source": [
    "cliente_df = df[df['CodCliente'] == user_id]\n",
    "cliente_rates = purchase_counts[purchase_counts['CodCliente'] == user_id]"
   ]
  },
  {
   "cell_type": "code",
   "execution_count": 57,
   "metadata": {},
   "outputs": [
    {
     "data": {
      "text/html": [
       "<div>\n",
       "<style scoped>\n",
       "    .dataframe tbody tr th:only-of-type {\n",
       "        vertical-align: middle;\n",
       "    }\n",
       "\n",
       "    .dataframe tbody tr th {\n",
       "        vertical-align: top;\n",
       "    }\n",
       "\n",
       "    .dataframe thead th {\n",
       "        text-align: right;\n",
       "    }\n",
       "</style>\n",
       "<table border=\"1\" class=\"dataframe\">\n",
       "  <thead>\n",
       "    <tr style=\"text-align: right;\">\n",
       "      <th></th>\n",
       "      <th>descripcion</th>\n",
       "      <th>Cantidad</th>\n",
       "    </tr>\n",
       "  </thead>\n",
       "  <tbody>\n",
       "    <tr>\n",
       "      <th>249</th>\n",
       "      <td>PAN CHUKUTA KETAL  UNIDAD</td>\n",
       "      <td>63.0</td>\n",
       "    </tr>\n",
       "    <tr>\n",
       "      <th>22</th>\n",
       "      <td>AGUA VITAL SIN GAS 2LT</td>\n",
       "      <td>28.0</td>\n",
       "    </tr>\n",
       "    <tr>\n",
       "      <th>198</th>\n",
       "      <td>LECHUGA MIXTA APROX 200GR</td>\n",
       "      <td>22.0</td>\n",
       "    </tr>\n",
       "    <tr>\n",
       "      <th>413</th>\n",
       "      <td>YOGURT GRIEGO DELIZIA FRESA 170GR</td>\n",
       "      <td>17.0</td>\n",
       "    </tr>\n",
       "    <tr>\n",
       "      <th>416</th>\n",
       "      <td>ZUMO SANTA MARIA NARANJA 1000ML</td>\n",
       "      <td>15.0</td>\n",
       "    </tr>\n",
       "  </tbody>\n",
       "</table>\n",
       "</div>"
      ],
      "text/plain": [
       "                           descripcion  Cantidad\n",
       "249          PAN CHUKUTA KETAL  UNIDAD      63.0\n",
       "22              AGUA VITAL SIN GAS 2LT      28.0\n",
       "198          LECHUGA MIXTA APROX 200GR      22.0\n",
       "413  YOGURT GRIEGO DELIZIA FRESA 170GR      17.0\n",
       "416    ZUMO SANTA MARIA NARANJA 1000ML      15.0"
      ]
     },
     "execution_count": 57,
     "metadata": {},
     "output_type": "execute_result"
    }
   ],
   "source": [
    "resultado = cliente_df.groupby('descripcion')['Cantidad'].sum().reset_index()\n",
    "resultado = resultado.sort_values(by='Cantidad', ascending=False)\n",
    "resultado.head()"
   ]
  },
  {
   "cell_type": "code",
   "execution_count": null,
   "metadata": {},
   "outputs": [],
   "source": []
  }
 ],
 "metadata": {
  "colab": {
   "collapsed_sections": [
    "6YWt6Zhd6osH",
    "Y8MZREHliPoA",
    "W0ucNeV1iVBo",
    "3D5pDQDr85kJ",
    "OAMP4P9JDGFw",
    "ohTVGGuk1eUV",
    "yBHQrYAX_Bnw",
    "ZKaQO-lrEm-I",
    "FBJbdTh8HIdJ",
    "VqF0_JV84o_s",
    "GBlbolyv_I0O",
    "rsjuQ6z0LuAb",
    "pewMQWTzMD1w",
    "2lJeWrL74pEb"
   ],
   "provenance": []
  },
  "kernelspec": {
   "display_name": "Python 3 (ipykernel)",
   "language": "python",
   "name": "python3"
  },
  "language_info": {
   "codemirror_mode": {
    "name": "ipython",
    "version": 3
   },
   "file_extension": ".py",
   "mimetype": "text/x-python",
   "name": "python",
   "nbconvert_exporter": "python",
   "pygments_lexer": "ipython3",
   "version": "3.12.4"
  }
 },
 "nbformat": 4,
 "nbformat_minor": 4
}
