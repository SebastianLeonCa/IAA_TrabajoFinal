{
 "cells": [
  {
   "cell_type": "markdown",
   "metadata": {},
   "source": [
    "# 1. Inicio"
   ]
  },
  {
   "cell_type": "markdown",
   "metadata": {
    "id": "Y8MZREHliPoA"
   },
   "source": [
    "### 1.1 Librerías"
   ]
  },
  {
   "cell_type": "code",
   "execution_count": 31,
   "metadata": {
    "id": "52oimE9kiLHi"
   },
   "outputs": [],
   "source": [
    "import pandas as pd\n",
    "from scipy.sparse import coo_matrix\n",
    "from scipy.sparse import csr_matrix\n",
    "from sklearn.neighbors import NearestNeighbors\n",
    "\n",
    "import matplotlib.pyplot as plt\n",
    "import seaborn as sns\n",
    "from sklearn.metrics.pairwise import cosine_similarity"
   ]
  },
  {
   "cell_type": "markdown",
   "metadata": {
    "id": "W0ucNeV1iVBo"
   },
   "source": [
    "### 1.2. Lectura de datos"
   ]
  },
  {
   "cell_type": "code",
   "execution_count": 3,
   "metadata": {
    "id": "a8UcDzlAih6Y"
   },
   "outputs": [],
   "source": [
    "# Se lee el dataset\n",
    "data = pd.read_csv(\"supermercados.csv\")"
   ]
  },
  {
   "cell_type": "code",
   "execution_count": 4,
   "metadata": {},
   "outputs": [
    {
     "data": {
      "text/plain": [
       "(5640129, 18)"
      ]
     },
     "execution_count": 4,
     "metadata": {},
     "output_type": "execute_result"
    }
   ],
   "source": [
    "data.shape"
   ]
  },
  {
   "cell_type": "code",
   "execution_count": 6,
   "metadata": {
    "id": "lztei7IeGjbk"
   },
   "outputs": [
    {
     "name": "stderr",
     "output_type": "stream",
     "text": [
      "C:\\Users\\USUARIO\\AppData\\Local\\Temp\\ipykernel_11636\\639195657.py:5: SettingWithCopyWarning: \n",
      "A value is trying to be set on a copy of a slice from a DataFrame.\n",
      "Try using .loc[row_indexer,col_indexer] = value instead\n",
      "\n",
      "See the caveats in the documentation: https://pandas.pydata.org/pandas-docs/stable/user_guide/indexing.html#returning-a-view-versus-a-copy\n",
      "  df['codigosap'] = df['codigosap'].astype('int64')\n"
     ]
    },
    {
     "name": "stdout",
     "output_type": "stream",
     "text": [
      "Deimension:  (5640082, 9)\n"
     ]
    },
    {
     "data": {
      "text/html": [
       "<div>\n",
       "<style scoped>\n",
       "    .dataframe tbody tr th:only-of-type {\n",
       "        vertical-align: middle;\n",
       "    }\n",
       "\n",
       "    .dataframe tbody tr th {\n",
       "        vertical-align: top;\n",
       "    }\n",
       "\n",
       "    .dataframe thead th {\n",
       "        text-align: right;\n",
       "    }\n",
       "</style>\n",
       "<table border=\"1\" class=\"dataframe\">\n",
       "  <thead>\n",
       "    <tr style=\"text-align: right;\">\n",
       "      <th></th>\n",
       "      <th>CodCliente</th>\n",
       "      <th>NombreCliente</th>\n",
       "      <th>Categoria</th>\n",
       "      <th>Subcategoria</th>\n",
       "      <th>codigosap</th>\n",
       "      <th>descripcion</th>\n",
       "      <th>Cantidad</th>\n",
       "      <th>PrecioUnitario</th>\n",
       "      <th>ImporteLinea</th>\n",
       "    </tr>\n",
       "  </thead>\n",
       "  <tbody>\n",
       "    <tr>\n",
       "      <th>0</th>\n",
       "      <td>3546436</td>\n",
       "      <td>CAREAGA CHIRE RAMIRO ALEJANDRO</td>\n",
       "      <td>SALUD SEXUAL</td>\n",
       "      <td>PRESERVATIVOS</td>\n",
       "      <td>10105823</td>\n",
       "      <td>PRESERVATIVO MAXMEN BOOM 3UN</td>\n",
       "      <td>1.0</td>\n",
       "      <td>12.9</td>\n",
       "      <td>12.9</td>\n",
       "    </tr>\n",
       "    <tr>\n",
       "      <th>1</th>\n",
       "      <td>647917</td>\n",
       "      <td>TORREZ LUNARIO AMMY</td>\n",
       "      <td>PAPELES DESECHABLES</td>\n",
       "      <td>SERVILLETAS</td>\n",
       "      <td>10065383</td>\n",
       "      <td>SERVILLETA ELITE COCTEL 400UN</td>\n",
       "      <td>1.0</td>\n",
       "      <td>29.9</td>\n",
       "      <td>29.9</td>\n",
       "    </tr>\n",
       "  </tbody>\n",
       "</table>\n",
       "</div>"
      ],
      "text/plain": [
       "   CodCliente                   NombreCliente            Categoria  \\\n",
       "0     3546436  CAREAGA CHIRE RAMIRO ALEJANDRO         SALUD SEXUAL   \n",
       "1      647917             TORREZ LUNARIO AMMY  PAPELES DESECHABLES   \n",
       "\n",
       "    Subcategoria  codigosap                               descripcion  \\\n",
       "0  PRESERVATIVOS   10105823  PRESERVATIVO MAXMEN BOOM 3UN               \n",
       "1    SERVILLETAS   10065383  SERVILLETA ELITE COCTEL 400UN              \n",
       "\n",
       "   Cantidad  PrecioUnitario  ImporteLinea  \n",
       "0       1.0            12.9          12.9  \n",
       "1       1.0            29.9          29.9  "
      ]
     },
     "execution_count": 6,
     "metadata": {},
     "output_type": "execute_result"
    }
   ],
   "source": [
    "#Eliminar nulos\n",
    "df = data.dropna()\n",
    "\n",
    "#Convertir el codigo a int\n",
    "df['codigosap'] = df['codigosap'].astype('int64')\n",
    "\n",
    "#Seleccionar solo columnas importantes\n",
    "df = df[['CodCliente', 'NombreCliente','Categoria','Subcategoria','codigosap','descripcion','Cantidad','PrecioUnitario', 'ImporteLinea']]\n",
    "\n",
    "#Detalles de data\n",
    "print('Deimension: ', df.shape)\n",
    "df.head(2)"
   ]
  },
  {
   "cell_type": "code",
   "execution_count": 7,
   "metadata": {},
   "outputs": [
    {
     "name": "stdout",
     "output_type": "stream",
     "text": [
      "CodCliente          int64\n",
      "NombreCliente      object\n",
      "Categoria          object\n",
      "Subcategoria       object\n",
      "codigosap           int64\n",
      "descripcion        object\n",
      "Cantidad          float64\n",
      "PrecioUnitario    float64\n",
      "ImporteLinea      float64\n",
      "dtype: object\n"
     ]
    }
   ],
   "source": [
    "print(df.dtypes)"
   ]
  },
  {
   "cell_type": "markdown",
   "metadata": {},
   "source": [
    "# 2. Eliminacion de datos"
   ]
  },
  {
   "cell_type": "markdown",
   "metadata": {},
   "source": [
    "## 2.1 Eliminando clientes con demasiadas apariciones"
   ]
  },
  {
   "cell_type": "code",
   "execution_count": 10,
   "metadata": {},
   "outputs": [
    {
     "data": {
      "text/html": [
       "<div>\n",
       "<style scoped>\n",
       "    .dataframe tbody tr th:only-of-type {\n",
       "        vertical-align: middle;\n",
       "    }\n",
       "\n",
       "    .dataframe tbody tr th {\n",
       "        vertical-align: top;\n",
       "    }\n",
       "\n",
       "    .dataframe thead th {\n",
       "        text-align: right;\n",
       "    }\n",
       "</style>\n",
       "<table border=\"1\" class=\"dataframe\">\n",
       "  <thead>\n",
       "    <tr style=\"text-align: right;\">\n",
       "      <th></th>\n",
       "      <th>CodCliente</th>\n",
       "      <th>Apariciones</th>\n",
       "      <th>Porcentaje</th>\n",
       "    </tr>\n",
       "  </thead>\n",
       "  <tbody>\n",
       "    <tr>\n",
       "      <th>0</th>\n",
       "      <td>0</td>\n",
       "      <td>2712826</td>\n",
       "      <td>48.0991</td>\n",
       "    </tr>\n",
       "    <tr>\n",
       "      <th>34246</th>\n",
       "      <td>9109926</td>\n",
       "      <td>11744</td>\n",
       "      <td>0.2082</td>\n",
       "    </tr>\n",
       "    <tr>\n",
       "      <th>188</th>\n",
       "      <td>123456</td>\n",
       "      <td>8561</td>\n",
       "      <td>0.1518</td>\n",
       "    </tr>\n",
       "    <tr>\n",
       "      <th>25151</th>\n",
       "      <td>4904910</td>\n",
       "      <td>6007</td>\n",
       "      <td>0.1065</td>\n",
       "    </tr>\n",
       "  </tbody>\n",
       "</table>\n",
       "</div>"
      ],
      "text/plain": [
       "       CodCliente  Apariciones  Porcentaje\n",
       "0               0      2712826     48.0991\n",
       "34246     9109926        11744      0.2082\n",
       "188        123456         8561      0.1518\n",
       "25151     4904910         6007      0.1065"
      ]
     },
     "execution_count": 10,
     "metadata": {},
     "output_type": "execute_result"
    }
   ],
   "source": [
    "#Clientes por cantidad de compras que han hecho\n",
    "aparXcliente = df.groupby('CodCliente').size().reset_index(name='Apariciones')\n",
    "\n",
    "totApar = aparXcliente['Apariciones'].sum()\n",
    "aparXcliente['Porcentaje'] = round(aparXcliente['Apariciones'] / totApar * 100, 4)\n",
    "\n",
    "aparXcliente = aparXcliente.sort_values(by='Apariciones', ascending=False)\n",
    "aparXcliente.head(4)"
   ]
  },
  {
   "cell_type": "code",
   "execution_count": 11,
   "metadata": {
    "scrolled": true
   },
   "outputs": [
    {
     "name": "stdout",
     "output_type": "stream",
     "text": [
      "1855018\n"
     ]
    },
    {
     "data": {
      "text/html": [
       "<div>\n",
       "<style scoped>\n",
       "    .dataframe tbody tr th:only-of-type {\n",
       "        vertical-align: middle;\n",
       "    }\n",
       "\n",
       "    .dataframe tbody tr th {\n",
       "        vertical-align: top;\n",
       "    }\n",
       "\n",
       "    .dataframe thead th {\n",
       "        text-align: right;\n",
       "    }\n",
       "</style>\n",
       "<table border=\"1\" class=\"dataframe\">\n",
       "  <thead>\n",
       "    <tr style=\"text-align: right;\">\n",
       "      <th></th>\n",
       "      <th>CodCliente</th>\n",
       "      <th>Cantidad</th>\n",
       "      <th>Porcentaje</th>\n",
       "    </tr>\n",
       "  </thead>\n",
       "  <tbody>\n",
       "    <tr>\n",
       "      <th>0</th>\n",
       "      <td>0</td>\n",
       "      <td>24798</td>\n",
       "      <td>1.3368</td>\n",
       "    </tr>\n",
       "    <tr>\n",
       "      <th>1</th>\n",
       "      <td>1</td>\n",
       "      <td>27</td>\n",
       "      <td>0.0015</td>\n",
       "    </tr>\n",
       "    <tr>\n",
       "      <th>2</th>\n",
       "      <td>2</td>\n",
       "      <td>9</td>\n",
       "      <td>0.0005</td>\n",
       "    </tr>\n",
       "    <tr>\n",
       "      <th>3</th>\n",
       "      <td>4</td>\n",
       "      <td>24</td>\n",
       "      <td>0.0013</td>\n",
       "    </tr>\n",
       "  </tbody>\n",
       "</table>\n",
       "</div>"
      ],
      "text/plain": [
       "   CodCliente  Cantidad  Porcentaje\n",
       "0           0     24798      1.3368\n",
       "1           1        27      0.0015\n",
       "2           2         9      0.0005\n",
       "3           4        24      0.0013"
      ]
     },
     "execution_count": 11,
     "metadata": {},
     "output_type": "execute_result"
    }
   ],
   "source": [
    "#Clientes por variedad de productos\n",
    "prdoXcliente = df.groupby('CodCliente')['codigosap'].nunique().reset_index()\n",
    "prdoXcliente.rename(columns={'codigosap': 'Cantidad'}, inplace=True)\n",
    "\n",
    "#Agregando columna de porcentaje\n",
    "totCant = prdoXcliente['Cantidad'].sum()\n",
    "print(totCant)\n",
    "prdoXcliente['Porcentaje'] = round((prdoXcliente['Cantidad'] / totCant) * 100,4)\n",
    "\n",
    "prdoXcliente.head(4)"
   ]
  },
  {
   "cell_type": "code",
   "execution_count": 12,
   "metadata": {},
   "outputs": [
    {
     "data": {
      "image/png": "[encoded data removed]",
      "text/plain": [
       "<Figure size 640x480 with 1 Axes>"
      ]
     },
     "metadata": {},
     "output_type": "display_data"
    }
   ],
   "source": [
    "L = list(prdoXcliente['Cantidad'])\n",
    "plt.plot(L)\n",
    "plt.title('Diferentes productos por cada cliente')\n",
    "plt.xlabel('Clientes')\n",
    "plt.ylabel('Cantidad de productos')\n",
    "plt.show()"
   ]
  },
  {
   "cell_type": "code",
   "execution_count": 13,
   "metadata": {},
   "outputs": [
    {
     "name": "stdout",
     "output_type": "stream",
     "text": [
      "Nro de clientes 36245\n",
      "Nro de productos 24839\n"
     ]
    }
   ],
   "source": [
    "#Eliminando los clientes que compraron demasiados productos\n",
    "df = df[(df['CodCliente'] != 0) & (df['CodCliente'] != 123456) & (df['CodCliente'] != 4904910) & (df['CodCliente'] != 9109926)]\n",
    "\n",
    "print('Nro de clientes', len(df['CodCliente'].unique()))\n",
    "print('Nro de productos', len(df['codigosap'].unique()))"
   ]
  },
  {
   "cell_type": "code",
   "execution_count": 14,
   "metadata": {},
   "outputs": [
    {
     "data": {
      "image/png": "[encoded data removed]",
      "text/plain": [
       "<Figure size 640x480 with 1 Axes>"
      ]
     },
     "metadata": {},
     "output_type": "display_data"
    }
   ],
   "source": [
    "L = list(df.groupby('CodCliente')['codigosap'].nunique().reset_index()['codigosap'])\n",
    "plt.plot(L)\n",
    "plt.title('Diferentes productos por cada cliente')\n",
    "plt.xlabel('Clientes')\n",
    "plt.ylabel('Cantidad de productos')\n",
    "plt.show()"
   ]
  },
  {
   "cell_type": "markdown",
   "metadata": {},
   "source": [
    "## 2.2 Eliminando devoluciones"
   ]
  },
  {
   "cell_type": "code",
   "execution_count": 16,
   "metadata": {},
   "outputs": [
    {
     "name": "stdout",
     "output_type": "stream",
     "text": [
      "Cantidad de Devoluciones: 1529\n",
      "Porcentaje de la data: 0.052706980900010476%\n"
     ]
    }
   ],
   "source": [
    "nevativos = df[df['ImporteLinea'] < 0].shape[0]\n",
    "\n",
    "print(f\"Cantidad de Devoluciones: {nevativos}\")\n",
    "print(f\"Porcentaje de la data: {nevativos*100/df.shape[0]}%\")"
   ]
  },
  {
   "cell_type": "code",
   "execution_count": 17,
   "metadata": {},
   "outputs": [],
   "source": [
    "#Elimnando los registros de devoluciones\n",
    "df = df[df['ImporteLinea'] >= 0]"
   ]
  },
  {
   "cell_type": "code",
   "execution_count": 18,
   "metadata": {},
   "outputs": [
    {
     "data": {
      "text/plain": [
       "(2899415, 9)"
      ]
     },
     "execution_count": 18,
     "metadata": {},
     "output_type": "execute_result"
    }
   ],
   "source": [
    "df.shape"
   ]
  },
  {
   "cell_type": "markdown",
   "metadata": {},
   "source": [
    "# 3. Modelo Item Based Collaborative Filtering"
   ]
  },
  {
   "cell_type": "code",
   "execution_count": null,
   "metadata": {},
   "outputs": [],
   "source": [
    "# Crear una matriz de usuarios y productos\n",
    "user_product_matrix = df.pivot_table(index='CodCliente', columns='codigosap', values='ImporteLinea', fill_value=0)\n",
    "\n",
    "# Calcular la similitud del coseno entre todos los productos\n",
    "product_similarity = cosine_similarity(user_product_matrix.T)\n",
    "product_similarity_df = pd.DataFrame(product_similarity, index=user_product_matrix.columns, columns=user_product_matrix.columns)"
   ]
  },
  {
   "cell_type": "code",
   "execution_count": null,
   "metadata": {},
   "outputs": [],
   "source": [
    "# Función mejorada para obtener recomendaciones basadas en ítems\n",
    "def get_item_based_recommendations(user_id, user_product_matrix, product_similarity_df, data, num_recommendations=10):\n",
    "    # Obtener los productos que el usuario ha comprado\n",
    "    user_products = user_product_matrix.loc[user_id]\n",
    "    user_products = user_products[user_products > 0].index.tolist()\n",
    "    \n",
    "    # Crear una lista de productos recomendados\n",
    "    recommendations = pd.Series(dtype=float)\n",
    "    for product in user_products:\n",
    "        similar_products = product_similarity_df[product].sort_values(ascending=False)\n",
    "        similar_products = similar_products.drop(user_products)  # Eliminar los productos que el usuario ya ha comprado\n",
    "        recommendations = pd.concat([recommendations, similar_products])\n",
    "    \n",
    "    # Ordenar las recomendaciones por similitud y devolver las principales\n",
    "    recommendations = recommendations.groupby(recommendations.index).mean()\n",
    "    recommendations = recommendations.sort_values(ascending=False).head(num_recommendations)\n",
    "    \n",
    "    # Añadir información adicional sobre los productos recomendados\n",
    "    recommendations = recommendations.reset_index()\n",
    "    recommendations.columns = ['codigosap', 'similarity']\n",
    "    recommendations = recommendations.merge(data[['codigosap', 'descripcion', 'Categoria', 'Subcategoria']].drop_duplicates(), on='codigosap', how='left')\n",
    "    \n",
    "    return recommendations"
   ]
  },
  {
   "cell_type": "code",
   "execution_count": 22,
   "metadata": {},
   "outputs": [
    {
     "name": "stdout",
     "output_type": "stream",
     "text": [
      "    codigosap  similarity                               descripcion  \\\n",
      "0      103817    0.116592  FILETE DE POLLO SOFIA EN BANDEJA X KILO    \n",
      "1      103817    0.116592                  FILETE DE POLLO SOFIA EN   \n",
      "2      103817    0.116592   FILETE DE POLLO SOFIA EN BANDEJA X KILO   \n",
      "3      100460    0.113161  PLATANO POR KILO                           \n",
      "4      100460    0.113161                          PLATANO POR KILO   \n",
      "5      101588    0.110890  PAPAS RICAPAPA ROJA GOURMET POR KILO       \n",
      "6      101588    0.110890      PAPAS RICAPAPA ROJA GOURMET POR KILO   \n",
      "7      101588    0.110890                 PAPAS RICAPAPA ROJA GOURM   \n",
      "8      200037    0.100598  PAN KETAL KG FRANCES                       \n",
      "9      200037    0.100598                      PAN KETAL KG FRANCES   \n",
      "10     100519    0.098909  COLIFLOR POR KILO                          \n",
      "11     100519    0.098909                         COLIFLOR POR KILO   \n",
      "12     100489    0.098600  AJO POR KILO                               \n",
      "13     100489    0.098600                              AJO POR KILO   \n",
      "14     100499    0.094200  BETERRAGA POR KILO                         \n",
      "15     100499    0.094200                        BETERRAGA POR KILO   \n",
      "16     100411    0.093931  FRUTILLA POR KILO                          \n",
      "17     100411    0.093931                         FRUTILLA POR KILO   \n",
      "18     100420    0.093683  LIMON REAL POR KILO                        \n",
      "19     100420    0.093683                       LIMON REAL POR KILO   \n",
      "20     100453    0.092192  PERA DE AGUA WILLIAMS POR KILO             \n",
      "21     100453    0.092192            PERA DE AGUA WILLIAMS POR KILO   \n",
      "22     100453    0.092192                 PERA DE AGUA WILLIAMS POR   \n",
      "\n",
      "           Categoria          Subcategoria  \n",
      "0     CARNE DE POLLO   POLLO FRESCO FILETE  \n",
      "1     CARNE DE POLLO   POLLO FRESCO FILETE  \n",
      "2     CARNE DE POLLO   POLLO FRESCO FILETE  \n",
      "3     FRUTAS FRESCAS     FRUTAS TROPICALES  \n",
      "4     FRUTAS FRESCAS     FRUTAS TROPICALES  \n",
      "5   VERDURAS FRESCAS    TUBERCULOS Y BULBO  \n",
      "6   VERDURAS FRESCAS    TUBERCULOS Y BULBO  \n",
      "7   VERDURAS FRESCAS    TUBERCULOS Y BULBO  \n",
      "8         PAN FRESCO  PAN FRESCO FRANCESPP  \n",
      "9         PAN FRESCO  PAN FRESCO FRANCESPP  \n",
      "10  VERDURAS FRESCAS        HOJAS Y FLORES  \n",
      "11  VERDURAS FRESCAS        HOJAS Y FLORES  \n",
      "12  VERDURAS FRESCAS    TUBERCULOS Y BULBO  \n",
      "13  VERDURAS FRESCAS    TUBERCULOS Y BULBO  \n",
      "14  VERDURAS FRESCAS                RAICES  \n",
      "15  VERDURAS FRESCAS                RAICES  \n",
      "16    FRUTAS FRESCAS     FRUTAS SILVESTRES  \n",
      "17    FRUTAS FRESCAS     FRUTAS SILVESTRES  \n",
      "18    FRUTAS FRESCAS       FRUTAS CITRICAS  \n",
      "19    FRUTAS FRESCAS       FRUTAS CITRICAS  \n",
      "20    FRUTAS FRESCAS     FRUTAS TROPICALES  \n",
      "21    FRUTAS FRESCAS     FRUTAS TROPICALES  \n",
      "22    FRUTAS FRESCAS     FRUTAS TROPICALES  \n"
     ]
    }
   ],
   "source": [
    "# Probar la función de recomendación con un usuario específico\n",
    "example_user_id = 647917\n",
    "recommended_items = get_item_based_recommendations(example_user_id, user_product_matrix, product_similarity_df, data)\n",
    "print(recommended_items)"
   ]
  }
 ],
 "metadata": {
  "colab": {
   "collapsed_sections": [
    "6YWt6Zhd6osH",
    "Y8MZREHliPoA",
    "W0ucNeV1iVBo",
    "3D5pDQDr85kJ",
    "OAMP4P9JDGFw",
    "ohTVGGuk1eUV",
    "yBHQrYAX_Bnw",
    "ZKaQO-lrEm-I",
    "FBJbdTh8HIdJ",
    "VqF0_JV84o_s",
    "GBlbolyv_I0O",
    "rsjuQ6z0LuAb",
    "pewMQWTzMD1w",
    "2lJeWrL74pEb"
   ],
   "provenance": []
  },
  "kernelspec": {
   "display_name": "Python 3 (ipykernel)",
   "language": "python",
   "name": "python3"
  },
  "language_info": {
   "codemirror_mode": {
    "name": "ipython",
    "version": 3
   },
   "file_extension": ".py",
   "mimetype": "text/x-python",
   "name": "python",
   "nbconvert_exporter": "python",
   "pygments_lexer": "ipython3",
   "version": "3.12.4"
  }
 },
 "nbformat": 4,
 "nbformat_minor": 4
}
